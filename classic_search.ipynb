{
 "cells": [
  {
   "cell_type": "code",
   "id": "initial_id",
   "metadata": {
    "collapsed": true,
    "ExecuteTime": {
     "end_time": "2025-05-10T15:56:31.181695Z",
     "start_time": "2025-05-10T15:55:35.864807Z"
    }
   },
   "source": [
    "\n",
    "import pandas as pd\n",
    "import numpy as np\n",
    "import matplotlib.pyplot as plt\n",
    "import nltk\n",
    "from nltk.stem import WordNetLemmatizer\n",
    "from nltk.corpus import stopwords\n",
    "\n",
    "answers = pd.read_csv('Answers.csv',encoding='latin1')\n",
    "questions = pd.read_csv('Questions.csv', encoding='latin1')\n",
    "tags = pd.read_csv('Tags.csv', encoding='latin1')"
   ],
   "outputs": [],
   "execution_count": 1
  },
  {
   "metadata": {
    "ExecuteTime": {
     "end_time": "2025-05-10T15:57:02.169654Z",
     "start_time": "2025-05-10T15:57:02.161811Z"
    }
   },
   "cell_type": "code",
   "source": "print(answers.head())",
   "id": "5c02a415a14e0ac3",
   "outputs": [
    {
     "name": "stdout",
     "output_type": "stream",
     "text": [
      "    Id  OwnerUserId          CreationDate  ParentId  Score  \\\n",
      "0   92         61.0  2008-08-01T14:45:37Z        90     13   \n",
      "1  124         26.0  2008-08-01T16:09:47Z        80     12   \n",
      "2  199         50.0  2008-08-01T19:36:46Z       180      1   \n",
      "3  269         91.0  2008-08-01T23:49:57Z       260      4   \n",
      "4  307         49.0  2008-08-02T01:49:46Z       260     28   \n",
      "\n",
      "                                                Body  \n",
      "0  <p><a href=\"http://svnbook.red-bean.com/\">Vers...  \n",
      "1  <p>I wound up using this. It is a kind of a ha...  \n",
      "2  <p>I've read somewhere the human eye can't dis...  \n",
      "3  <p>Yes, I thought about that, but I soon figur...  \n",
      "4  <p><a href=\"http://www.codeproject.com/Article...  \n"
     ]
    }
   ],
   "execution_count": 2
  },
  {
   "metadata": {
    "ExecuteTime": {
     "end_time": "2025-05-10T15:57:05.106896Z",
     "start_time": "2025-05-10T15:57:05.100612Z"
    }
   },
   "cell_type": "code",
   "source": "print(questions.head())",
   "id": "6b6ca71ee611b036",
   "outputs": [
    {
     "name": "stdout",
     "output_type": "stream",
     "text": [
      "    Id  OwnerUserId          CreationDate            ClosedDate  Score  \\\n",
      "0   80         26.0  2008-08-01T13:57:07Z                   NaN     26   \n",
      "1   90         58.0  2008-08-01T14:41:24Z  2012-12-26T03:45:49Z    144   \n",
      "2  120         83.0  2008-08-01T15:50:08Z                   NaN     21   \n",
      "3  180    2089740.0  2008-08-01T18:42:19Z                   NaN     53   \n",
      "4  260         91.0  2008-08-01T23:22:08Z                   NaN     49   \n",
      "\n",
      "                                               Title  \\\n",
      "0  SQLStatement.execute() - multiple queries in o...   \n",
      "1  Good branching and merging tutorials for Torto...   \n",
      "2                                  ASP.NET Site Maps   \n",
      "3                 Function for creating color wheels   \n",
      "4  Adding scripting functionality to .NET applica...   \n",
      "\n",
      "                                                Body  \n",
      "0  <p>I've written a database generation script i...  \n",
      "1  <p>Are there any really good tutorials explain...  \n",
      "2  <p>Has anyone got experience creating <strong>...  \n",
      "3  <p>This is something I've pseudo-solved many t...  \n",
      "4  <p>I have a little game written in C#. It uses...  \n"
     ]
    }
   ],
   "execution_count": 3
  },
  {
   "metadata": {
    "ExecuteTime": {
     "end_time": "2025-05-10T15:57:07.902264Z",
     "start_time": "2025-05-10T15:57:07.898119Z"
    }
   },
   "cell_type": "code",
   "source": "print(tags.head())",
   "id": "e032556b787d5c3f",
   "outputs": [
    {
     "name": "stdout",
     "output_type": "stream",
     "text": [
      "   Id             Tag\n",
      "0  80            flex\n",
      "1  80  actionscript-3\n",
      "2  80             air\n",
      "3  90             svn\n",
      "4  90     tortoisesvn\n"
     ]
    }
   ],
   "execution_count": 4
  },
  {
   "metadata": {
    "ExecuteTime": {
     "end_time": "2025-05-10T16:21:02.018033Z",
     "start_time": "2025-05-10T16:21:01.000922Z"
    }
   },
   "cell_type": "code",
   "source": [
    "qa_df = answers.merge(questions, left_on='ParentId', right_on='Id', suffixes=('_answer', '_question'))\n",
    "print(qa_df.head())"
   ],
   "id": "8d39d9d495fe4e25",
   "outputs": [
    {
     "name": "stdout",
     "output_type": "stream",
     "text": [
      "   Id_answer  OwnerUserId_answer   CreationDate_answer  ParentId  \\\n",
      "0         92                61.0  2008-08-01T14:45:37Z        90   \n",
      "1        124                26.0  2008-08-01T16:09:47Z        80   \n",
      "2        199                50.0  2008-08-01T19:36:46Z       180   \n",
      "3        269                91.0  2008-08-01T23:49:57Z       260   \n",
      "4        307                49.0  2008-08-02T01:49:46Z       260   \n",
      "\n",
      "   Score_answer                                        Body_answer  \\\n",
      "0            13  <p><a href=\"http://svnbook.red-bean.com/\">Vers...   \n",
      "1            12  <p>I wound up using this. It is a kind of a ha...   \n",
      "2             1  <p>I've read somewhere the human eye can't dis...   \n",
      "3             4  <p>Yes, I thought about that, but I soon figur...   \n",
      "4            28  <p><a href=\"http://www.codeproject.com/Article...   \n",
      "\n",
      "   Id_question  OwnerUserId_question CreationDate_question  \\\n",
      "0           90                  58.0  2008-08-01T14:41:24Z   \n",
      "1           80                  26.0  2008-08-01T13:57:07Z   \n",
      "2          180             2089740.0  2008-08-01T18:42:19Z   \n",
      "3          260                  91.0  2008-08-01T23:22:08Z   \n",
      "4          260                  91.0  2008-08-01T23:22:08Z   \n",
      "\n",
      "             ClosedDate  Score_question  \\\n",
      "0  2012-12-26T03:45:49Z             144   \n",
      "1                   NaN              26   \n",
      "2                   NaN              53   \n",
      "3                   NaN              49   \n",
      "4                   NaN              49   \n",
      "\n",
      "                                               Title  \\\n",
      "0  Good branching and merging tutorials for Torto...   \n",
      "1  SQLStatement.execute() - multiple queries in o...   \n",
      "2                 Function for creating color wheels   \n",
      "3  Adding scripting functionality to .NET applica...   \n",
      "4  Adding scripting functionality to .NET applica...   \n",
      "\n",
      "                                       Body_question  \n",
      "0  <p>Are there any really good tutorials explain...  \n",
      "1  <p>I've written a database generation script i...  \n",
      "2  <p>This is something I've pseudo-solved many t...  \n",
      "3  <p>I have a little game written in C#. It uses...  \n",
      "4  <p>I have a little game written in C#. It uses...  \n"
     ]
    }
   ],
   "execution_count": 8
  },
  {
   "metadata": {
    "ExecuteTime": {
     "end_time": "2025-05-10T17:10:59.054514Z",
     "start_time": "2025-05-10T16:50:57.632561Z"
    }
   },
   "cell_type": "code",
   "source": [
    "import re\n",
    "stop_words = set(stopwords.words('english'))\n",
    "nltk.download('omw-1.4')\n",
    "lemmatizer = WordNetLemmatizer()\n",
    "\n",
    "def clean_text(text: str)-> str:\n",
    "    text = re.sub(r'<[^>]+>','', text)\n",
    "    text = text.lower()\n",
    "    text = re.sub(r'[^a-z\\s]','', text)\n",
    "    tokens = text.split()\n",
    "    tokens = [word for word in tokens if word not in stop_words]\n",
    "    tokens = [lemmatizer.lemmatize(word) for word in tokens]\n",
    "    return ' '.join(tokens)\n",
    "\n",
    "qa_df['clean_questions'] = qa_df['Body_question'].apply(clean_text)\n",
    "qa_df['clean_answers'] = qa_df['Body_answer'].apply(clean_text)\n",
    "qa_df_to_save = qa_df.head(3000)\n",
    "qa_df_to_save.to_csv(\"qa_dataset_merged_3000.csv\", index=False, encoding='utf-8')\n",
    "#сохранила датасет из 3000 строк, чтобы оттуда взять вопросы и айдишники для дальнейшей метрики\n",
    "print(qa_df.head())"
   ],
   "id": "18573ed58ab0c404",
   "outputs": [
    {
     "name": "stderr",
     "output_type": "stream",
     "text": [
      "[nltk_data] Downloading package omw-1.4 to\n",
      "[nltk_data]     C:\\Users\\ASUS'\\AppData\\Roaming\\nltk_data...\n"
     ]
    },
    {
     "name": "stdout",
     "output_type": "stream",
     "text": [
      "   Id_answer  OwnerUserId_answer   CreationDate_answer  ParentId  \\\n",
      "0         92                61.0  2008-08-01T14:45:37Z        90   \n",
      "1        124                26.0  2008-08-01T16:09:47Z        80   \n",
      "2        199                50.0  2008-08-01T19:36:46Z       180   \n",
      "3        269                91.0  2008-08-01T23:49:57Z       260   \n",
      "4        307                49.0  2008-08-02T01:49:46Z       260   \n",
      "\n",
      "   Score_answer                                        Body_answer  \\\n",
      "0            13  <p><a href=\"http://svnbook.red-bean.com/\">Vers...   \n",
      "1            12  <p>I wound up using this. It is a kind of a ha...   \n",
      "2             1  <p>I've read somewhere the human eye can't dis...   \n",
      "3             4  <p>Yes, I thought about that, but I soon figur...   \n",
      "4            28  <p><a href=\"http://www.codeproject.com/Article...   \n",
      "\n",
      "   Id_question  OwnerUserId_question CreationDate_question  \\\n",
      "0           90                  58.0  2008-08-01T14:41:24Z   \n",
      "1           80                  26.0  2008-08-01T13:57:07Z   \n",
      "2          180             2089740.0  2008-08-01T18:42:19Z   \n",
      "3          260                  91.0  2008-08-01T23:22:08Z   \n",
      "4          260                  91.0  2008-08-01T23:22:08Z   \n",
      "\n",
      "             ClosedDate  Score_question  \\\n",
      "0  2012-12-26T03:45:49Z             144   \n",
      "1                   NaN              26   \n",
      "2                   NaN              53   \n",
      "3                   NaN              49   \n",
      "4                   NaN              49   \n",
      "\n",
      "                                               Title  \\\n",
      "0  Good branching and merging tutorials for Torto...   \n",
      "1  SQLStatement.execute() - multiple queries in o...   \n",
      "2                 Function for creating color wheels   \n",
      "3  Adding scripting functionality to .NET applica...   \n",
      "4  Adding scripting functionality to .NET applica...   \n",
      "\n",
      "                                       Body_question  \\\n",
      "0  <p>Are there any really good tutorials explain...   \n",
      "1  <p>I've written a database generation script i...   \n",
      "2  <p>This is something I've pseudo-solved many t...   \n",
      "3  <p>I have a little game written in C#. It uses...   \n",
      "4  <p>I have a little game written in C#. It uses...   \n",
      "\n",
      "                                     clean_questions  \\\n",
      "0  really good tutorial explaining branching merg...   \n",
      "1  ive written database generation script sql wan...   \n",
      "2  something ive pseudosolved many time never qui...   \n",
      "3  little game written c us database backend trad...   \n",
      "4  little game written c us database backend trad...   \n",
      "\n",
      "                                       clean_answers  \n",
      "0  version control subversion good resource sourc...  \n",
      "1  wound using kind hack actually work pretty wel...  \n",
      "2  ive read somewhere human eye cant distinguish ...  \n",
      "3  yes thought soon figured another domainspecifi...  \n",
      "4  oleg shilos c script solution code project rea...  \n"
     ]
    }
   ],
   "execution_count": 11
  },
  {
   "metadata": {
    "ExecuteTime": {
     "end_time": "2025-05-10T17:18:49.563727Z",
     "start_time": "2025-05-10T17:16:17.336641Z"
    }
   },
   "cell_type": "code",
   "source": [
    "from collections import defaultdict\n",
    "\n",
    "inverted_index = defaultdict(lambda: defaultdict(int))\n",
    "\n",
    "for i, question in qa_df['clean_questions'].items():\n",
    "    for word in question.split():\n",
    "        inverted_index[word][i] += 1"
   ],
   "id": "96c664a10b57749e",
   "outputs": [],
   "execution_count": 12
  },
  {
   "metadata": {
    "ExecuteTime": {
     "end_time": "2025-05-10T18:28:29.797462Z",
     "start_time": "2025-05-10T18:24:49.063458Z"
    }
   },
   "cell_type": "code",
   "source": [
    "from sklearn.feature_extraction.text import TfidfVectorizer\n",
    "from sklearn.metrics.pairwise import cosine_similarity\n",
    "\n",
    "vectorizer = TfidfVectorizer()\n",
    "tfidf_matrix = vectorizer.fit_transform(qa_df['clean_questions'])\n",
    "\n",
    "best_answers = qa_df.groupby('Id_question')['Score_answer'].idxmax()\n",
    "qa_df_best = qa_df.loc[best_answers]\n",
    "\n",
    "def find_similar_qa(query: str, top_n: int = 5) -> pd.DataFrame:\n",
    "    clean_query = clean_text(query)\n",
    "    query_vector = vectorizer.transform([clean_query])\n",
    "    similarities = cosine_similarity(query_vector, tfidf_matrix).flatten()\n",
    "    top_indices = similarities.argsort()[::-1][:top_n]\n",
    "    results = []\n",
    "    for idx in top_indices:\n",
    "        question_id = qa_df.iloc[idx]['Id_question']\n",
    "        best_answer = qa_df_best[qa_df_best['Id_question'] == question_id]['clean_answers'].values[0]\n",
    "        \n",
    "        results.append({\n",
    "            'question': qa_df.iloc[idx]['clean_questions'],\n",
    "            'similarity': round(similarities[idx], 3),\n",
    "            'best_answer': best_answer,\n",
    "            'question_id': question_id\n",
    "        })\n",
    "    \n",
    "    return pd.DataFrame(results)"
   ],
   "id": "eb8f60f13123f39a",
   "outputs": [],
   "execution_count": 23
  },
  {
   "metadata": {
    "ExecuteTime": {
     "end_time": "2025-05-10T18:30:18.281243Z",
     "start_time": "2025-05-10T18:29:52.732084Z"
    }
   },
   "cell_type": "code",
   "source": [
    "def precision_at_5(relevant_ids, retrieved_ids):\n",
    "    hits = sum(1 for i in retrieved_ids[:5] if i in relevant_ids)\n",
    "    return hits / 5\n",
    "\n",
    "def reciprocal_rank(relevant_ids, retrieved_ids):\n",
    "    for rank, id_ in enumerate(retrieved_ids, start=1):\n",
    "        if id_ in relevant_ids:\n",
    "            return 1 / rank\n",
    "    return 0\n",
    "#проверка дубликатов\n",
    "duplicates = ['little game written c uses database backend trading card game wanted implement function cards script mean essentially interface icard card class implements public class card icard contains function called game make thing maintainablemoddable would like class card source code database essentially compile first use addchange card ill add database tell application refresh without needing assembly deployment especially since would talking assembly per card means hundreds assemblies possible register class source file instantiate etc icard cardscurrent new mygamecardlibrarycard cardscurrentonenterplayref currentgamestate language c extra bonus possible write script net language', 'something ive pseudosolved many times never quite found solution thats stuck problem come way generate n colors distinguishable possible n parameter', 'wonder guys manage deployment database sql servers specifically sql server development live one part buildscript standard windows batch even current complexity scripts might switch powershell later enterprise managermanagement studio express count would copy mdf file attach always bit careful working binary data seems compatiblity issue even though development live run version server time given lack explain create table tsql something exports existing database sqlscripts run target server yes tool automatically dump given database sql queries runs command line enterprise managermanagement studio express count lastly given fact live database already contains data deployment may involve creating tables rather checking difference structure alter table live ones instead may also need data verificationconversion existing fields change hear lot great stuff red gate products hobby projects price bit steep using automatically deploy sql server databases test live', 'would like version property application incremented build im sure enable functionality visual studio tried specify assemblyversion doesnt get exactly want im also using settings file earlier attempts assembly version changed settings got reset default since application looked settings file another directory would like able display version number form user finds problem log version using well tell upgrade old release short explanation versioning works would also appreciated build revision number get incremented', 'im trying maintain setup project visual studio yes legacy application problem moment need write registry entries hkcu every user computer need hkcu rather hklm default user settings change per user feeling isnt possible isnt something installer something application happens user profile created install mind still want change little possible application question possible add registry entries every user visual studio setup project moment project lists five registry root keys hkeyclassesroot hkeycurrentuser hkeylocalmachine hkeyusers usermachine hive dont really know anything users root key havent seen usermachine hive anyone enlighten perhaps could solve problem']\n",
    "\n",
    "for duplicate in duplicates:\n",
    "    res = find_similar_qa(duplicate)\n",
    "    print(res['question'])"
   ],
   "id": "2463e985569e0589",
   "outputs": [
    {
     "name": "stdout",
     "output_type": "stream",
     "text": [
      "0    little game written c us database backend trad...\n",
      "1    little game written c us database backend trad...\n",
      "2    little game written c us database backend trad...\n",
      "3    little game written c us database backend trad...\n",
      "4    little game written c us database backend trad...\n",
      "Name: question, dtype: object\n",
      "0    something ive pseudosolved many time never qui...\n",
      "1    something ive pseudosolved many time never qui...\n",
      "2    something ive pseudosolved many time never qui...\n",
      "3    something ive pseudosolved many time never qui...\n",
      "4    something ive pseudosolved many time never qui...\n",
      "Name: question, dtype: object\n",
      "0    wonder guy manage deployment database sql serv...\n",
      "1    wonder guy manage deployment database sql serv...\n",
      "2    wonder guy manage deployment database sql serv...\n",
      "3    wonder guy manage deployment database sql serv...\n",
      "4    wonder guy manage deployment database sql serv...\n",
      "Name: question, dtype: object\n",
      "0    would like version property application increm...\n",
      "1    would like version property application increm...\n",
      "2    would like version property application increm...\n",
      "3    would like version property application increm...\n",
      "4    would like version property application increm...\n",
      "Name: question, dtype: object\n",
      "0    im trying maintain setup project visual studio...\n",
      "1    im trying maintain setup project visual studio...\n",
      "2    im trying maintain setup project visual studio...\n",
      "3    im trying maintain setup project visual studio...\n",
      "4    supposing remote machine im admin want query v...\n",
      "Name: question, dtype: object\n"
     ]
    }
   ],
   "execution_count": 24
  },
  {
   "metadata": {
    "ExecuteTime": {
     "end_time": "2025-05-10T18:39:54.648692Z",
     "start_time": "2025-05-10T18:39:35.798631Z"
    }
   },
   "cell_type": "code",
   "source": [
    "test_data = [\n",
    "    {\"query\": \"the simplest way to connect and query a database for a set of records in C#\", \"relevant_ids\": [930]},\n",
    "    {\"query\": \"make subdomain user accounts in a webapp\", \"relevant_ids\": [1180]},\n",
    "    {\"query\": \"the best way to copy a database\", \"relevant_ids\": [1600]},\n",
    "    {\"query\": \"logically reorder columns in a table\", \"relevant_ids\": [1610]},\n",
    "    {\"query\": \"convert HashBytes to VarChar\", \"relevant_ids\": [2120]},\n",
    "]\n",
    "\n",
    "precisions = []\n",
    "\n",
    "for item in test_data:\n",
    "    res = find_similar_qa(item[\"query\"])\n",
    "    retrieved_ids = res['question_id'].tolist()\n",
    "    relevant_ids = item[\"relevant_ids\"]\n",
    "\n",
    "    precisions.append(precision_at_5(relevant_ids, retrieved_ids))\n",
    "\n",
    "print(\"Оценка качества\")\n",
    "print(\"Average Precision@5:\", round(sum(precisions)/len(precisions), 3))"
   ],
   "id": "2f0705272b6c92ce",
   "outputs": [
    {
     "name": "stdout",
     "output_type": "stream",
     "text": [
      "Оценка качества\n",
      "Average Precision@5: 0.2\n"
     ]
    }
   ],
   "execution_count": 29
  },
  {
   "metadata": {},
   "cell_type": "markdown",
   "source": "Вероятно такой низкий результат, потому что почти все вопросы имеют дубликаты, и программа может находить тот же вопросов, но с другим id, а не тем, что я задала.",
   "id": "be8e14687efadca2"
  },
  {
   "metadata": {},
   "cell_type": "markdown",
   "source": "Тесты:",
   "id": "67b7327e7e7d87c"
  },
  {
   "metadata": {
    "ExecuteTime": {
     "end_time": "2025-05-10T18:31:54.657846Z",
     "start_time": "2025-05-10T18:31:51.017119Z"
    }
   },
   "cell_type": "code",
   "source": "print(find_similar_qa(\"what i need to do if webhook crashed my telegram bot\"))",
   "id": "428214286672d583",
   "outputs": [
    {
     "name": "stdout",
     "output_type": "stream",
     "text": [
      "                                            question  similarity  \\\n",
      "0  wrote telegram bot go frizes sometimes dont an...       0.585   \n",
      "1  im new telegram bot want know add telegram bot...       0.584   \n",
      "2  telegram bot dialog need keep question answer ...       0.568   \n",
      "3  telegram bot dialog need keep question answer ...       0.568   \n",
      "4  possible send message phone number username us...       0.546   \n",
      "\n",
      "                                         best_answer  question_id  \n",
      "0  need find bot freeze health check answer probl...     37558520  \n",
      "1  bot access user unique identifier user id user...     32010100  \n",
      "2  question really related telegram bot api essen...     31912730  \n",
      "3  question really related telegram bot api essen...     31912730  \n",
      "4  possible send message phone number username se...     34392430  \n"
     ]
    }
   ],
   "execution_count": 26
  },
  {
   "metadata": {
    "ExecuteTime": {
     "end_time": "2025-05-10T18:32:37.825553Z",
     "start_time": "2025-05-10T18:32:32.170633Z"
    }
   },
   "cell_type": "code",
   "source": "print(find_similar_qa(\"how to download a file\"))",
   "id": "5905393d337d0052",
   "outputs": [
    {
     "name": "stdout",
     "output_type": "stream",
     "text": [
      "                                            question  similarity  \\\n",
      "0                                      download file       1.000   \n",
      "1                                      download file       1.000   \n",
      "2  need download file download button webpage pag...       0.798   \n",
      "3  need download file download button webpage pag...       0.798   \n",
      "4  request android download manager download mult...       0.793   \n",
      "\n",
      "                                         best_answer  question_id  \n",
      "0  complete package available httpwwwapachefriend...      4980980  \n",
      "1  complete package available httpwwwapachefriend...      4980980  \n",
      "2  think try hard way btns driverfindelementsbyta...     33538600  \n",
      "3  think try hard way btns driverfindelementsbyta...     33538600  \n",
      "4  request first one request second one request t...      8971000  \n"
     ]
    }
   ],
   "execution_count": 27
  },
  {
   "metadata": {
    "ExecuteTime": {
     "end_time": "2025-05-10T18:33:21.600727Z",
     "start_time": "2025-05-10T18:33:17.318853Z"
    }
   },
   "cell_type": "code",
   "source": "print(find_similar_qa(\"how to segment a picture\"))",
   "id": "899c2a20e84435d6",
   "outputs": [
    {
     "name": "stdout",
     "output_type": "stream",
     "text": [
      "                                            question  similarity  \\\n",
      "0  process creates two segment program variable m...       0.651   \n",
      "1  im creating game player always move forward al...       0.645   \n",
      "2  achieve using excel easier language original d...       0.640   \n",
      "3  segment controller xib three segment id like c...       0.633   \n",
      "4  line segment matching type constraint applied ...       0.592   \n",
      "\n",
      "                                         best_answer  question_id  \n",
      "0  data data segment different value determined e...     35039650  \n",
      "1  problem start making game unity dont know code...     36094720  \n",
      "2  vba left right mid function exactly purpose fu...     14699560  \n",
      "3  uisegmentedcontrol includes method voidsettitl...     11900310  \n",
      "4  need kind error function describes good segmen...     14677220  \n"
     ]
    }
   ],
   "execution_count": 28
  },
  {
   "metadata": {},
   "cell_type": "markdown",
   "source": "Я решила добавить автоматическую проверку релевантности путем совпадения тегов:",
   "id": "c28e94df0f298642"
  },
  {
   "metadata": {
    "ExecuteTime": {
     "end_time": "2025-05-10T17:58:01.577292Z",
     "start_time": "2025-05-10T17:52:02.389631Z"
    }
   },
   "cell_type": "code",
   "source": [
    "tag_dict = tags.groupby('Id')['Tag'].apply(set).to_dict()\n",
    "\n",
    "def tag_precision_at_5(original_qid, retrieved_ids):\n",
    "    if original_qid not in tag_dict:\n",
    "        return 0\n",
    "    original_tags = tag_dict[original_qid]\n",
    "    if not original_tags:\n",
    "        return 0\n",
    "\n",
    "    matches = 0\n",
    "    for rid in retrieved_ids[:5]:\n",
    "        tags_r = tag_dict.get(rid, set())\n",
    "        if original_tags & tags_r:  # пересечение тегов\n",
    "            matches += 1\n",
    "    return matches / 5\n",
    "\n",
    "# Выбираем 3 вопроса с тегами как тестовые запросы\n",
    "sample_questions = questions[questions['Id'].isin(tag_dict.keys())].sample(100, random_state=42)\n",
    "\n",
    "tag_precisions = []\n",
    "\n",
    "for _, row in sample_questions.iterrows():\n",
    "    query = clean_text(row['Body'])\n",
    "    qid = row['Id']\n",
    "    res = find_similar_qa(query)\n",
    "    retrieved_ids = res['question_id'].tolist()\n",
    "\n",
    "    p_at5 = tag_precision_at_5(qid, retrieved_ids)\n",
    "    tag_precisions.append(p_at5)\n",
    "\n",
    "print(\"=== Оценка по тегам ===\")\n",
    "print(\"Средний Precision@5 по тегам:\", np.mean(tag_precisions))"
   ],
   "id": "f0532c58421991d6",
   "outputs": [
    {
     "name": "stdout",
     "output_type": "stream",
     "text": [
      "=== Оценка по тегам ===\n",
      "Средний Precision@5 по тегам: 0.6180000000000001\n"
     ]
    }
   ],
   "execution_count": 21
  },
  {
   "metadata": {
    "ExecuteTime": {
     "end_time": "2025-05-10T17:51:13.091282Z",
     "start_time": "2025-05-10T17:51:11.516065Z"
    }
   },
   "cell_type": "code",
   "source": [
    "plt.figure(figsize=(10, 6))\n",
    "plt.hist(tag_precisions, bins=np.arange(0, 1.1, 0.1), edgecolor='black', alpha=0.7)\n",
    "plt.axvline(np.mean(tag_precisions), color='r', linestyle='dashed', linewidth=2, \n",
    "            label=f'Среднее: {np.mean(tag_precisions):.2f}')\n",
    "plt.title('Распределение Precision@5 по тегам')\n",
    "plt.xlabel('Precision@5')\n",
    "plt.ylabel('Количество вопросов')\n",
    "plt.xticks(np.arange(0, 1.1, 0.1))\n",
    "plt.legend()\n",
    "plt.grid(True, alpha=0.3)\n",
    "plt.show()"
   ],
   "id": "4907b6f1e623be3b",
   "outputs": [
    {
     "data": {
      "text/plain": [
       "<Figure size 1000x600 with 1 Axes>"
      ],
      "image/png": "[encoded data removed]"
     },
     "metadata": {},
     "output_type": "display_data"
    }
   ],
   "execution_count": 20
  },
  {
   "metadata": {},
   "cell_type": "markdown",
   "source": [
    "# Отчет\n",
    "\n",
    "## Реализация поиска\n",
    "\n",
    "1. **Объединение данных**: Вопросы, ответы и теги объединяются в единый DataFrame (qa_df).\n",
    "2. **Очистка текста**: Текст вопросов и ответов обрабатывается (удаление HTML-тегов, приведение к нижнему регистру, лемматизация, удаление стоп-слов).\n",
    "3. **Инвертированный индекс**: Создается индекс для быстрого поиска по словам в вопросах.\n",
    "4. **TF-IDF и косинусная схожесть**: Используется векторное представление текста для вычисления схожести запроса с вопросами.\n",
    "\n",
    "## Метрики качества\n",
    "\n",
    "- **Precision@5**: Доля релевантных вопросов в топ-5 результатов.\n",
    "- **MRR (Mean Reciprocal Rank)**: Среднее обратное ранга первого релевантного ответа.\n",
    "- **Проверка по тегам**: Учитывается совпадение тегов для повышения точности.\n",
    "\n",
    "## Примеры работы\n",
    "- **Дубликаты**: \n",
    "\n",
    "Для заданных текстов-дубликатов система возвращает схожие вопросы, но с разными Id, что снижает точность.\n",
    "\n",
    "```python\n",
    "duplicates = [...]  # Список дубликатов\n",
    "for duplicate in duplicates:\n",
    "    res = find_similar_qa(duplicate)\n",
    "    print(res['question'])\n",
    "```\n",
    "\n",
    "- **Тестовые запросы**:\n",
    "\n",
    "Для 5 тестовых запросов средние метрики:\n",
    "\n",
    "- **Precision@5**: 0.2 (20% релевантных ответов в топ-5), т.е. 1 релевантный ответ из 5(связано с дубликатами)\n",
    "Это не очень корректная метрика, т.к. у одинаковых вопросов разные ID\n",
    "### Оценка по тегам\n",
    "\n",
    "После добавления проверки тегов, средний Precision@5 составляет 0.62, из чего можно сделать вывод о хорошем качестве предсказания\n",
    "\n",
    "## Выводы о классическом подходе\n",
    "\n",
    "### Плюсы\n",
    "\n",
    "- **Скорость**: Инвертированный индекс и TF-IDF обеспечивают быстрое выполнение запросов.\n",
    "- **Простота**: Прозрачная реализация без сложных моделей машинного обучения.\n",
    "- **Интерпретируемость**: Легко анализировать результаты и вносить правки (например, добавить проверку тегов).\n",
    "\n",
    "### Минусы\n",
    "\n",
    "- **Неучет контекста**: Не различает синонимы (например, \"БД\" и \"база данных\") или многозначные слова.\n",
    "- **Зависимость от предобработки**: Качество сильно зависит от лемматизации, стоп-слов и регулярок.\n",
    "- **Проблемы с дубликатами**: Разные ID для одинаковых вопросов снижают точность метрик.\n",
    "- **Ограниченная семантика**: Не учитывает смысловую близость (например, \"создать таблицу\" vs \"добавить запись в БД\").\n",
    "\n",
    "\n"
   ],
   "id": "245c5abf8dd455fe"
  },
  {
   "metadata": {},
   "cell_type": "markdown",
   "source": "",
   "id": "7e535329b464e5f8"
  },
  {
   "metadata": {},
   "cell_type": "code",
   "outputs": [],
   "execution_count": null,
   "source": "",
   "id": "b57fd8e01a6888d0"
  }
 ],
 "metadata": {
  "kernelspec": {
   "display_name": "Python 3",
   "language": "python",
   "name": "python3"
  },
  "language_info": {
   "codemirror_mode": {
    "name": "ipython",
    "version": 2
   },
   "file_extension": ".py",
   "mimetype": "text/x-python",
   "name": "python",
   "nbconvert_exporter": "python",
   "pygments_lexer": "ipython2",
   "version": "2.7.6"
  }
 },
 "nbformat": 4,
 "nbformat_minor": 5
}
